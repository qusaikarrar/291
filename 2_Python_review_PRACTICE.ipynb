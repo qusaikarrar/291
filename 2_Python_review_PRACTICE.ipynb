{
  "cells": [
    {
      "cell_type": "markdown",
      "metadata": {
        "id": "H4zbwKXUtX1F"
      },
      "source": [
        "## 0- Lists"
      ]
    },
    {
      "cell_type": "markdown",
      "metadata": {
        "id": "kirY_SnWnV1N"
      },
      "source": [
        "**1-** Create a list containing numbers form 1,...,5"
      ]
    },
    {
      "cell_type": "code",
      "execution_count": null,
      "metadata": {
        "id": "H8LjzVoInUsx"
      },
      "outputs": [],
      "source": [
        "L=[1,2,3,4,5]"
      ]
    },
    {
      "cell_type": "markdown",
      "metadata": {
        "id": "BxcSrHgenuBM"
      },
      "source": [
        "**2-** Create another list of numbers containing square of numbers form 1,...,5"
      ]
    },
    {
      "cell_type": "code",
      "execution_count": null,
      "metadata": {
        "id": "2sEcZLMRnwlL"
      },
      "outputs": [],
      "source": [
        "L2=[1,4,9,16,25]"
      ]
    },
    {
      "cell_type": "markdown",
      "metadata": {
        "id": "s5Rqplz0n1uq"
      },
      "source": [
        "**3-** Repeat the above two tasks for numbers 1,...,50"
      ]
    },
    {
      "cell_type": "code",
      "execution_count": null,
      "metadata": {
        "colab": {
          "base_uri": "https://localhost:8080/"
        },
        "id": "CPIzd1PaoEIE",
        "outputId": "a32f3cf7-532c-4d74-b71f-d315ddbc9dda"
      },
      "outputs": [
        {
          "output_type": "stream",
          "name": "stdout",
          "text": [
            "[1, 2, 3, 4, 5, 6, 7, 8, 9, 10, 11, 12, 13, 14, 15, 16, 17, 18, 19, 20, 21, 22, 23, 24, 25, 26, 27, 28, 29, 30, 31, 32, 33, 34, 35, 36, 37, 38, 39, 40, 41, 42, 43, 44, 45, 46, 47, 48, 49, 50]\n"
          ]
        }
      ],
      "source": [
        "Numbers=list(range(1,51))\n",
        "print(Numbers)"
      ]
    },
    {
      "cell_type": "code",
      "execution_count": null,
      "metadata": {
        "colab": {
          "base_uri": "https://localhost:8080/"
        },
        "id": "LSR7xazBpKyX",
        "outputId": "be280dd0-8498-4f11-8f7c-10ec9f1fe021"
      },
      "outputs": [
        {
          "output_type": "stream",
          "name": "stdout",
          "text": [
            "[1, 4, 9, 16, 25, 36, 49, 64, 81, 100, 121, 144, 169, 196, 225, 256, 289, 324, 361, 400, 441, 484, 529, 576, 625, 676, 729, 784, 841, 900, 961, 1024, 1089, 1156, 1225, 1296, 1369, 1444, 1521, 1600, 1681, 1764, 1849, 1936, 2025, 2116, 2209, 2304, 2401, 2500]\n"
          ]
        }
      ],
      "source": [
        "Numbers2=[x**2 for x in Numbers]\n",
        "print(Numbers2)"
      ]
    },
    {
      "cell_type": "markdown",
      "metadata": {
        "id": "NN_hBVfTprQi"
      },
      "source": [
        "**4-** Create a list, say ***eSquare***, which has only the squares of even numbers form 1,...,50."
      ]
    },
    {
      "cell_type": "code",
      "execution_count": null,
      "metadata": {
        "colab": {
          "base_uri": "https://localhost:8080/"
        },
        "id": "xh2-33bBptr9",
        "outputId": "55d70df9-6d1a-46ce-f6b9-9ff9d4277e6c"
      },
      "outputs": [
        {
          "output_type": "stream",
          "name": "stdout",
          "text": [
            "[4, 16, 36, 64, 100, 144, 196, 256, 324, 400, 484, 576, 676, 784, 900, 1024, 1156, 1296, 1444, 1600, 1764, 1936, 2116, 2304, 2500]\n"
          ]
        }
      ],
      "source": [
        "eSquare=[e**2 for e in Numbers if e%2==0]\n",
        "print(eSquare)"
      ]
    },
    {
      "cell_type": "markdown",
      "metadata": {
        "id": "ON2sKjzFqZTF"
      },
      "source": [
        "**5-** Create a new list, say ***PV***, which has 'E' for even numbers and 'O' for odd numbers for numbers from 1,...,50."
      ]
    },
    {
      "cell_type": "code",
      "execution_count": null,
      "metadata": {
        "colab": {
          "base_uri": "https://localhost:8080/"
        },
        "id": "iUjsg9v7qdri",
        "outputId": "b658b58c-3d13-4c6f-e5ac-d88a0cf9ba41"
      },
      "outputs": [
        {
          "output_type": "stream",
          "name": "stdout",
          "text": [
            "['O', 'E', 'O', 'E', 'O', 'E', 'O', 'E', 'O', 'E', 'O', 'E', 'O', 'E', 'O', 'E', 'O', 'E', 'O', 'E', 'O', 'E', 'O', 'E', 'O', 'E', 'O', 'E', 'O', 'E', 'O', 'E', 'O', 'E', 'O', 'E', 'O', 'E', 'O', 'E', 'O', 'E', 'O', 'E', 'O', 'E', 'O', 'E', 'O', 'E']\n"
          ]
        }
      ],
      "source": [
        "PV=['E' if x%2==0 else 'O' for x in Numbers2]\n",
        "print(PV)"
      ]
    },
    {
      "cell_type": "markdown",
      "metadata": {
        "id": "4aMRJ5tvrfsE"
      },
      "source": [
        "**6-** Find the length of eSquare"
      ]
    },
    {
      "cell_type": "code",
      "execution_count": null,
      "metadata": {
        "colab": {
          "base_uri": "https://localhost:8080/"
        },
        "id": "x7NVbI9FrhnO",
        "outputId": "5768af22-242a-4130-c7f6-841c26996648"
      },
      "outputs": [
        {
          "output_type": "stream",
          "name": "stdout",
          "text": [
            "25\n"
          ]
        }
      ],
      "source": [
        "print(len(eSquare))"
      ]
    },
    {
      "cell_type": "markdown",
      "metadata": {
        "id": "nBANR0Gnu9pJ"
      },
      "source": [
        "**6-** Find the position of 196 in eSquare"
      ]
    },
    {
      "cell_type": "code",
      "execution_count": null,
      "metadata": {
        "colab": {
          "base_uri": "https://localhost:8080/"
        },
        "id": "KIxCvVSrvDW2",
        "outputId": "0a27e488-04c8-4801-9563-394bad0c65e6"
      },
      "outputs": [
        {
          "output_type": "stream",
          "name": "stdout",
          "text": [
            "6\n"
          ]
        }
      ],
      "source": [
        "print(eSquare.index(196))"
      ]
    },
    {
      "cell_type": "markdown",
      "metadata": {
        "id": "nHs7ro6RvSjH"
      },
      "source": [
        "**7-** Check if number 576 is inside eSquare"
      ]
    },
    {
      "cell_type": "code",
      "execution_count": null,
      "metadata": {
        "colab": {
          "base_uri": "https://localhost:8080/"
        },
        "id": "-qXUHMSLvbdz",
        "outputId": "64d35227-90dc-475c-c230-d4b2122d7413"
      },
      "outputs": [
        {
          "output_type": "stream",
          "name": "stdout",
          "text": [
            "True\n"
          ]
        }
      ],
      "source": [
        "print(576 in eSquare)"
      ]
    },
    {
      "cell_type": "markdown",
      "metadata": {
        "id": "BSKRT63PE5he"
      },
      "source": [
        "**8-** Create two new variables, containing the max and min numbers inside eSquare"
      ]
    },
    {
      "cell_type": "code",
      "execution_count": null,
      "metadata": {
        "colab": {
          "base_uri": "https://localhost:8080/"
        },
        "id": "Hv5HQba8FkwM",
        "outputId": "2d5001af-67bf-4ed1-f691-d19a56a0a17b"
      },
      "outputs": [
        {
          "output_type": "stream",
          "name": "stdout",
          "text": [
            "2500 4\n"
          ]
        }
      ],
      "source": [
        "max, min = max(eSquare), min(eSquare)\n",
        "print(max,min)"
      ]
    },
    {
      "cell_type": "markdown",
      "metadata": {
        "id": "uHpkT3_OF7bA"
      },
      "source": [
        "**9-** Swap the values of the above two variables"
      ]
    },
    {
      "cell_type": "code",
      "execution_count": null,
      "metadata": {
        "id": "Y4NRudKuF_1L",
        "colab": {
          "base_uri": "https://localhost:8080/"
        },
        "outputId": "b06e1e67-3747-4ab1-89dd-bdfaf9f4cedc"
      },
      "outputs": [
        {
          "output_type": "stream",
          "name": "stdout",
          "text": [
            "2500 4\n"
          ]
        }
      ],
      "source": [
        "min, max = max, min\n",
        "print(min, max)"
      ]
    },
    {
      "cell_type": "markdown",
      "metadata": {
        "id": "Tv53R3HTGTEC"
      },
      "source": [
        "**10-** Remove 196 from eSquare"
      ]
    },
    {
      "cell_type": "code",
      "execution_count": null,
      "metadata": {
        "id": "HPfONqmnGV3a",
        "colab": {
          "base_uri": "https://localhost:8080/"
        },
        "outputId": "5810694c-48c6-4cc4-c6bd-f5ac7c94b8df"
      },
      "outputs": [
        {
          "output_type": "stream",
          "name": "stdout",
          "text": [
            "[4, 16, 36, 64, 100, 144, 256, 324, 400, 484, 576, 676, 784, 900, 1024, 1156, 1296, 1444, 1600, 1764, 1936, 2116, 2304, 2500]\n"
          ]
        }
      ],
      "source": [
        "eSquare.remove(196)\n",
        "print(eSquare)"
      ]
    },
    {
      "cell_type": "markdown",
      "metadata": {
        "id": "Mit43qGSG1Rb"
      },
      "source": [
        "#1- Enumerate"
      ]
    },
    {
      "cell_type": "markdown",
      "metadata": {
        "id": "BpbZDUTUG_RJ"
      },
      "source": [
        "Consider the following list:\n",
        "['Apple', 'Banana', 'Orange', 'Watermelon', 'Plum', 'Grapes', 'Kiwi', 'Strawberry', 'Pear']"
      ]
    },
    {
      "cell_type": "markdown",
      "metadata": {
        "id": "d9RwxPi7HCit"
      },
      "source": [
        "**1-** Create a list and name it ***fruits***"
      ]
    },
    {
      "cell_type": "code",
      "execution_count": null,
      "metadata": {
        "id": "ipvOLnAaHWTj"
      },
      "outputs": [],
      "source": [
        "fruits = ['Apple', 'Banana', 'Orange', 'Watermelon', 'Plum', 'Grapes', 'Kiwi', 'Strawberry', 'Pear']"
      ]
    },
    {
      "cell_type": "markdown",
      "metadata": {
        "id": "j2i8WMbzHl0u"
      },
      "source": [
        "**2-** Sort the above list in ascending alphabetical order"
      ]
    },
    {
      "cell_type": "code",
      "execution_count": null,
      "metadata": {
        "id": "Ag-CWHh-HrJK",
        "colab": {
          "base_uri": "https://localhost:8080/"
        },
        "outputId": "6e77f92b-307b-4bbb-c28d-a64ddfbeda1f"
      },
      "outputs": [
        {
          "output_type": "stream",
          "name": "stdout",
          "text": [
            "The sorted list is: ['Apple', 'Banana', 'Grapes', 'Kiwi', 'Orange', 'Pear', 'Plum', 'Strawberry', 'Watermelon']\n"
          ]
        }
      ],
      "source": [
        "fruits.sort()\n",
        "print(\"The sorted list is:\", fruits)"
      ]
    },
    {
      "cell_type": "markdown",
      "metadata": {
        "id": "Qm0gxRMqIcfl"
      },
      "source": [
        "**3-** To the sorted list, for each element prefix the value by its position"
      ]
    },
    {
      "cell_type": "code",
      "execution_count": null,
      "metadata": {
        "id": "9u8BQhW6JZOh",
        "colab": {
          "base_uri": "https://localhost:8080/"
        },
        "outputId": "8c2da521-9c14-4f92-be4e-c8388556394f"
      },
      "outputs": [
        {
          "output_type": "stream",
          "name": "stdout",
          "text": [
            "['1.Apple', '2.Banana', '3.Grapes', '4.Kiwi', '5.Orange', '6.Pear', '7.Plum', '8.Strawberry', '9.Watermelon']\n"
          ]
        }
      ],
      "source": [
        "NumberedList = [str(i+1)+'.'+ j for i,j in enumerate(fruits)]\n",
        "print(NumberedList)"
      ]
    },
    {
      "cell_type": "markdown",
      "metadata": {
        "id": "P_2jkuRyK2cX"
      },
      "source": [
        "#2- Zip"
      ]
    },
    {
      "cell_type": "markdown",
      "metadata": {
        "id": "f7yx4xLOLM_s"
      },
      "source": [
        "**1-** Consider the following list:  \n",
        "[['Apple', 'Banana', 'Orange'], ['Watermelon', 'Plum', 'Grapes', 'Kiwi'], ['Strawberry', 'Pear', 'Mango']]\n",
        ". Create a new list containing all the 'fruits'\n"
      ]
    },
    {
      "cell_type": "code",
      "execution_count": null,
      "metadata": {
        "id": "gxsHECW8Lnsf",
        "colab": {
          "base_uri": "https://localhost:8080/"
        },
        "outputId": "03b72784-c727-4176-ec23-ae9ffa738e25"
      },
      "outputs": [
        {
          "output_type": "stream",
          "name": "stdout",
          "text": [
            "['Apple', 'Banana', 'Orange', 'Watermelon', 'Plum', 'Grapes', 'Kiwi', 'Strawberry', 'Pear', 'Mango']\n"
          ]
        }
      ],
      "source": [
        "fruits = [['Apple', 'Banana', 'Orange'], ['Watermelon', 'Plum', 'Grapes', 'Kiwi'], ['Strawberry', 'Pear', 'Mango']]\n",
        "allFruits = [i for innerlist in fruits for i in innerlist]\n",
        "print(allFruits)"
      ]
    },
    {
      "cell_type": "markdown",
      "metadata": {
        "id": "PaIVyZAcM3E0"
      },
      "source": [
        "**2-** Create a new list, say zipZap, containing tuple of fruits name followed by length of the name"
      ]
    },
    {
      "cell_type": "code",
      "execution_count": null,
      "metadata": {
        "id": "ROT-6ChSLihb",
        "colab": {
          "base_uri": "https://localhost:8080/"
        },
        "outputId": "e5087f37-4a07-4901-8bae-b32c1b4b0b3d"
      },
      "outputs": [
        {
          "output_type": "stream",
          "name": "stdout",
          "text": [
            "[5, 6, 6, 10, 4, 6, 4, 10, 4, 5]\n"
          ]
        }
      ],
      "source": [
        "lenFruits = [len(i) for i in allFruits]\n",
        "print(lenFruits)"
      ]
    },
    {
      "cell_type": "code",
      "execution_count": null,
      "metadata": {
        "id": "qs_-p3nTNRWg",
        "colab": {
          "base_uri": "https://localhost:8080/"
        },
        "outputId": "1bf653fb-f151-4077-a20b-877f3548f381"
      },
      "outputs": [
        {
          "output_type": "stream",
          "name": "stdout",
          "text": [
            "[('Apple', 5), ('Banana', 6), ('Orange', 6), ('Watermelon', 10), ('Plum', 4), ('Grapes', 6), ('Kiwi', 4), ('Strawberry', 10), ('Pear', 4), ('Mango', 5)]\n"
          ]
        }
      ],
      "source": [
        "zipZap = list(zip(allFruits, lenFruits))\n",
        "print(zipZap)"
      ]
    },
    {
      "cell_type": "markdown",
      "metadata": {
        "id": "b-qXForXODQv"
      },
      "source": [
        "**3-** Iterate over zipZap and print all the elements"
      ]
    },
    {
      "cell_type": "code",
      "execution_count": null,
      "metadata": {
        "id": "ZLJVzT6DOHu-",
        "colab": {
          "base_uri": "https://localhost:8080/"
        },
        "outputId": "91a4ea61-bb10-4a26-ceda-ad4d01b74f1c"
      },
      "outputs": [
        {
          "output_type": "stream",
          "name": "stdout",
          "text": [
            "Apple 5\n",
            "Banana 6\n",
            "Orange 6\n",
            "Watermelon 10\n",
            "Plum 4\n",
            "Grapes 6\n",
            "Kiwi 4\n",
            "Strawberry 10\n",
            "Pear 4\n",
            "Mango 5\n"
          ]
        }
      ],
      "source": [
        "for i in zipZap:\n",
        "    print(i[0],i[1])\n"
      ]
    },
    {
      "cell_type": "markdown",
      "metadata": {
        "id": "91N2PxLLOpfy"
      },
      "source": [
        "**4-** Iterate over zipZap and print the index and all the corresponding elements"
      ]
    },
    {
      "cell_type": "code",
      "execution_count": null,
      "metadata": {
        "id": "1PmLCM87OzsR",
        "colab": {
          "base_uri": "https://localhost:8080/"
        },
        "outputId": "4f7f97d4-41fe-4980-e4b6-c82ea10ebe03"
      },
      "outputs": [
        {
          "output_type": "stream",
          "name": "stdout",
          "text": [
            "0 Apple 5\n",
            "1 Banana 6\n",
            "2 Orange 6\n",
            "3 Watermelon 10\n",
            "4 Plum 4\n",
            "5 Grapes 6\n",
            "6 Kiwi 4\n",
            "7 Strawberry 10\n",
            "8 Pear 4\n",
            "9 Mango 5\n"
          ]
        }
      ],
      "source": [
        "for i,j in enumerate(zipZap):\n",
        "  print(i,j[0],j[1])"
      ]
    },
    {
      "cell_type": "markdown",
      "metadata": {
        "id": "fqomcJeAQKUk"
      },
      "source": [
        "#3- Dictionaries"
      ]
    },
    {
      "cell_type": "code",
      "execution_count": null,
      "metadata": {
        "id": "HkdqAONuQy_D"
      },
      "outputs": [],
      "source": [
        "fruits=['Apple', 'Banana', 'Orange', 'Watermelon', 'Plum', 'Grapes', 'Kiwi', 'Strawberry', 'Pear', 'Mango']\n",
        "prices=[47, 27, 35, 13, 28, 10, 30, 56, 15, 25]"
      ]
    },
    {
      "cell_type": "markdown",
      "metadata": {
        "id": "5tM-wSuYQ6uC"
      },
      "source": [
        "**1-** Create a dictionary, say ***book1***, which has fruits as keys, and prices as values"
      ]
    },
    {
      "cell_type": "code",
      "execution_count": null,
      "metadata": {
        "id": "N2h_WN1kRARR",
        "colab": {
          "base_uri": "https://localhost:8080/"
        },
        "outputId": "0013bf45-9ab4-4d51-8912-85a9a4e19915"
      },
      "outputs": [
        {
          "output_type": "stream",
          "name": "stdout",
          "text": [
            "{'Apple': 47, 'Banana': 27, 'Orange': 35, 'Watermelon': 13, 'Plum': 28, 'Grapes': 10, 'Kiwi': 30, 'Strawberry': 56, 'Pear': 15, 'Mango': 25}\n"
          ]
        }
      ],
      "source": [
        "book1 = dict(zip(fruits,prices))\n",
        "#book1 = list(zip(fruits,prices))\n",
        "print(book1)"
      ]
    },
    {
      "cell_type": "markdown",
      "metadata": {
        "id": "ntbgL34XX4Gj"
      },
      "source": [
        "**2-** Loop over all the key & value pairs of book1 and print them"
      ]
    },
    {
      "cell_type": "code",
      "execution_count": null,
      "metadata": {
        "id": "RKE-uORHX8gY",
        "colab": {
          "base_uri": "https://localhost:8080/"
        },
        "outputId": "7735b370-d438-4826-92b5-065b5579ff22"
      },
      "outputs": [
        {
          "output_type": "stream",
          "name": "stdout",
          "text": [
            "The price of Apple is 47\n",
            "The price of Banana is 27\n",
            "The price of Orange is 35\n",
            "The price of Watermelon is 13\n",
            "The price of Plum is 28\n",
            "The price of Grapes is 10\n",
            "The price of Kiwi is 30\n",
            "The price of Strawberry is 56\n",
            "The price of Pear is 15\n",
            "The price of Mango is 25\n"
          ]
        }
      ],
      "source": [
        "for i,j in book1.items():\n",
        "  print(f'The price of {i} is {j}')"
      ]
    },
    {
      "cell_type": "markdown",
      "metadata": {
        "id": "U-tJEYXPYl_O"
      },
      "source": [
        "**3-** Create a dictionary, say ***book2***, which has fruits as values, and unique numbers as keys"
      ]
    },
    {
      "cell_type": "code",
      "execution_count": null,
      "metadata": {
        "id": "rbIQzj6rDTg3",
        "colab": {
          "base_uri": "https://localhost:8080/"
        },
        "outputId": "3d029727-2537-4907-da82-148e76c211d9"
      },
      "outputs": [
        {
          "output_type": "stream",
          "name": "stdout",
          "text": [
            "{0: 'Apple', 1: 'Banana', 2: 'Orange', 3: 'Watermelon', 4: 'Plum', 5: 'Grapes', 6: 'Kiwi', 7: 'Strawberry', 8: 'Pear', 9: 'Mango'}\n"
          ]
        }
      ],
      "source": [
        "uniqueNumbers = list(range (len(fruits)))\n",
        "book2 = dict(zip(uniqueNumbers,fruits))\n",
        "print(book2)"
      ]
    },
    {
      "cell_type": "markdown",
      "metadata": {
        "id": "zs1D-X64GcBz"
      },
      "source": [
        "**4-** Display book2 and ask the user to pick a number. Then display the price of the fruit using book1."
      ]
    },
    {
      "cell_type": "code",
      "execution_count": null,
      "metadata": {
        "id": "gM2rGFn0GkGL",
        "colab": {
          "base_uri": "https://localhost:8080/"
        },
        "outputId": "e0c92dfb-4414-4079-a058-6a96b914ee6f"
      },
      "outputs": [
        {
          "output_type": "stream",
          "name": "stdout",
          "text": [
            "0:Apple\n",
            "1:Banana\n",
            "2:Orange\n",
            "3:Watermelon\n",
            "4:Plum\n",
            "5:Grapes\n",
            "6:Kiwi\n",
            "7:Strawberry\n",
            "8:Pear\n",
            "9:Mango\n"
          ]
        }
      ],
      "source": [
        "for i,j in book2.items():\n",
        "  print(f\"{i}:{j}\")\n",
        "\n",
        "#itemSelected = input(\"Enter the number of the fruit you want to buy: \")\n",
        "#itemSelected = int(itemSelected)\n",
        "\n",
        "#fruitSelected = book2[itemSelected]\n",
        "#priceSelected = book1[fruitSelected]\n",
        "\n",
        "#print(f'You have selected {fruitSelected}')\n",
        "#print(f'The price per KG of {fruitSelected} is {priceSelected}$')\n"
      ]
    },
    {
      "cell_type": "markdown",
      "metadata": {
        "id": "ZiKEIdBKHXNW"
      },
      "source": [
        "#4- String Methods"
      ]
    },
    {
      "cell_type": "markdown",
      "metadata": {
        "id": "7xeYu8HGa_eW"
      },
      "source": [
        "we are reviewing python programming topics in ise 291. it is the most popular language for data scientists. also, it is a good general purpose programming language."
      ]
    },
    {
      "cell_type": "markdown",
      "metadata": {
        "id": "XuXc2Czoa_Sc"
      },
      "source": [
        "Do the following:\n",
        "\n",
        "\n",
        "1. Breakdown the given text into list of sentences\n",
        "2. Capitalize the first word in each sentence\n",
        "3. Replace 'ise' with 'ISE\" everywhere\n",
        "4. Join all the above sentences into a new text\n",
        "5. Print the new text."
      ]
    },
    {
      "cell_type": "code",
      "execution_count": null,
      "metadata": {
        "id": "YbH6BW6GY766"
      },
      "outputs": [],
      "source": [
        "text = \"\"\"we are reviewing python programming topics in ise 291.\n",
        "it is the most popular language for data scientists.\n",
        "also, it is a good general purpose programming language.\"\"\""
      ]
    },
    {
      "cell_type": "code",
      "execution_count": null,
      "metadata": {
        "id": "MVBXGieyZBSh",
        "colab": {
          "base_uri": "https://localhost:8080/"
        },
        "outputId": "943d1748-a4ec-4f81-ede0-a152a2e3078e"
      },
      "outputs": [
        {
          "output_type": "stream",
          "name": "stdout",
          "text": [
            "['we are reviewing python programming topics in ise 291', '\\nit is the most popular language for data scientists', '\\nalso, it is a good general purpose programming language']\n",
            "['We are reviewing python programming topics in ISE 291', 'It is the most popular language for data scientists', 'Also, it is a good general purpose programming language']\n"
          ]
        }
      ],
      "source": [
        "sentences = text.split('.')\n",
        "sentences.pop(-1)\n",
        "print(sentences)\n",
        "\n",
        "sentences1 =  [s.strip().capitalize().replace('ise','ISE') for s in sentences]\n",
        "print(sentences1)"
      ]
    },
    {
      "cell_type": "markdown",
      "metadata": {
        "id": "MmibvtlNHXot"
      },
      "source": [
        "#4- Lambda & Map"
      ]
    },
    {
      "cell_type": "markdown",
      "metadata": {
        "id": "cMO74s2CeF70"
      },
      "source": [
        "1. Python's lambda() function is a small **anonymous** function, which can take any number of arguments, but can only have one expression.\n",
        "2. Python's map() function apply one function to each element of an **iterable** like list, tuple in Python.\n"
      ]
    },
    {
      "cell_type": "code",
      "execution_count": null,
      "metadata": {
        "id": "ntubdC9-endR",
        "colab": {
          "base_uri": "https://localhost:8080/"
        },
        "outputId": "19aed7fb-af11-4b4e-8a9c-60619f2dc17b"
      },
      "outputs": [
        {
          "output_type": "stream",
          "name": "stdout",
          "text": [
            "10\n"
          ]
        }
      ],
      "source": [
        "print((lambda x,y,z: x**y+z)(3,2,1))"
      ]
    },
    {
      "cell_type": "code",
      "execution_count": null,
      "metadata": {
        "id": "iugjFafhgHvs",
        "colab": {
          "base_uri": "https://localhost:8080/"
        },
        "outputId": "a4ae1aa0-fc9f-4189-96c7-455d7871b10a"
      },
      "outputs": [
        {
          "output_type": "stream",
          "name": "stdout",
          "text": [
            "35 is an odd number.\n"
          ]
        }
      ],
      "source": [
        "print((lambda x : f\"{x} is an even number.\" if x%2 == 0 else f\"{x} is an odd number.\")(35))"
      ]
    },
    {
      "cell_type": "code",
      "execution_count": null,
      "metadata": {
        "id": "m9lEy8zvheI5"
      },
      "outputs": [],
      "source": [
        "#number = input(\"Enter the nubmer you want to check: \")\n",
        "#number = int(number)\n",
        "#print(f\"{number} is an even number.\" if number%2 == 0 else f\"{number} is an odd  number.\")"
      ]
    },
    {
      "cell_type": "code",
      "execution_count": null,
      "metadata": {
        "id": "NVibm5bnsLKn",
        "colab": {
          "base_uri": "https://localhost:8080/"
        },
        "outputId": "9dd1b363-6b34-4ddf-e729-381f1143e39b"
      },
      "outputs": [
        {
          "output_type": "stream",
          "name": "stdout",
          "text": [
            "[0, 1, 2, 3, 4, 5, 6, 7, 8, 9, 10, 11, 12]\n",
            "[0, 1, 4, 9, 16, 25, 36, 49, 64, 81, 100, 121, 144]\n"
          ]
        }
      ],
      "source": [
        "l = list(range(13))\n",
        "print(l)\n",
        "def square(x):\n",
        "  return x**2\n",
        "\n",
        "l2 = list(map(square, l))\n",
        "print(l2)"
      ]
    },
    {
      "cell_type": "code",
      "execution_count": null,
      "metadata": {
        "id": "r4xhmyR9sLVo",
        "colab": {
          "base_uri": "https://localhost:8080/"
        },
        "outputId": "a306ceb5-409d-4752-ef11-6260758857f0"
      },
      "outputs": [
        {
          "output_type": "stream",
          "name": "stdout",
          "text": [
            "[1, 4, 9, 16, 25]\n"
          ]
        }
      ],
      "source": [
        "l3 = list(map((lambda x : x**2), L))\n",
        "print(l3)"
      ]
    },
    {
      "cell_type": "code",
      "execution_count": null,
      "metadata": {
        "id": "qyfHz_YJuy4G",
        "colab": {
          "base_uri": "https://localhost:8080/"
        },
        "outputId": "a7e8ab59-f0c4-4c3a-c95a-ae84ef3dd2e9"
      },
      "outputs": [
        {
          "output_type": "stream",
          "name": "stdout",
          "text": [
            "[0, 1, 2, 3, 4, 5]\n",
            "[0, 1, 4, 9, 16, 25]\n",
            "[0, 0, -2, -6, -12, -20]\n"
          ]
        }
      ],
      "source": [
        "list1 = list(range(6))\n",
        "list2 = [i**2 for i in list1]\n",
        "print(list1)\n",
        "print(list2)\n",
        "listSub = list(map((lambda x,y : x - y),list1, list2)) \n",
        "print(listSub)"
      ]
    },
    {
      "cell_type": "code",
      "execution_count": null,
      "metadata": {
        "id": "zn0oVStiwp1z",
        "colab": {
          "base_uri": "https://localhost:8080/"
        },
        "outputId": "a905e576-c6d5-41ed-a9e0-54bfda9a4aa0"
      },
      "outputs": [
        {
          "output_type": "stream",
          "name": "stdout",
          "text": [
            "<function square at 0x7f26765d3d30>\n"
          ]
        }
      ],
      "source": [
        "square1 = list(map((lambda x: x**2 if x%2==0 else None), list(range(21))))\n",
        "print(square)"
      ]
    },
    {
      "cell_type": "markdown",
      "metadata": {
        "id": "jQT6ZiWeHYbf"
      },
      "source": [
        "#5- Numpy Library"
      ]
    },
    {
      "cell_type": "markdown",
      "metadata": {
        "id": "poVffwEoIZHS"
      },
      "source": [
        "### 1- Creating Numpy Arrays"
      ]
    },
    {
      "cell_type": "markdown",
      "source": [
        "**1.** Create an integer array of 10 elements filled with all zeros"
      ],
      "metadata": {
        "id": "QJhDj-I5JIaU"
      }
    },
    {
      "cell_type": "code",
      "execution_count": null,
      "metadata": {
        "id": "QyKdGlAkIeed",
        "colab": {
          "base_uri": "https://localhost:8080/"
        },
        "outputId": "314ccab0-aa88-49ac-cb2f-dc2f0b73c3d5"
      },
      "outputs": [
        {
          "output_type": "stream",
          "name": "stdout",
          "text": [
            "[0, 0, 0, 0, 0, 0, 0, 0, 0, 0]\n",
            "<class 'list'>\n"
          ]
        }
      ],
      "source": [
        "import numpy as np\n",
        "np.zeros(10, int)\n",
        "\n",
        "list1 = [0 for x in range(10)]\n",
        "print(list1)\n",
        "print(type(list1))"
      ]
    },
    {
      "cell_type": "markdown",
      "source": [
        "3. Create a 3x5 floating-point array filled with ones"
      ],
      "metadata": {
        "id": "vIKJYa7PMuAM"
      }
    },
    {
      "cell_type": "code",
      "source": [
        "np.ones((3,5), dtype = 'float')"
      ],
      "metadata": {
        "colab": {
          "base_uri": "https://localhost:8080/"
        },
        "id": "fPDSuDTyMvFd",
        "outputId": "e9d3cf1c-a564-4788-91d6-562ab46d3b77"
      },
      "execution_count": null,
      "outputs": [
        {
          "output_type": "execute_result",
          "data": {
            "text/plain": [
              "array([[1., 1., 1., 1., 1.],\n",
              "       [1., 1., 1., 1., 1.],\n",
              "       [1., 1., 1., 1., 1.]])"
            ]
          },
          "metadata": {},
          "execution_count": 37
        }
      ]
    },
    {
      "cell_type": "markdown",
      "source": [
        "4. Create a 3x5 array filled with pi values"
      ],
      "metadata": {
        "id": "mM3YD480OCZO"
      }
    },
    {
      "cell_type": "code",
      "source": [
        "print(np.full((3,5), np.pi))"
      ],
      "metadata": {
        "colab": {
          "base_uri": "https://localhost:8080/"
        },
        "id": "ZQKy2LSHOGbD",
        "outputId": "5adebc8e-36ae-45f1-b705-992daf14f449"
      },
      "execution_count": null,
      "outputs": [
        {
          "output_type": "stream",
          "name": "stdout",
          "text": [
            "[[3.14159265 3.14159265 3.14159265 3.14159265 3.14159265]\n",
            " [3.14159265 3.14159265 3.14159265 3.14159265 3.14159265]\n",
            " [3.14159265 3.14159265 3.14159265 3.14159265 3.14159265]]\n"
          ]
        }
      ]
    },
    {
      "cell_type": "markdown",
      "source": [
        "5. Create a 3x3 array of uniformly distributed random values between 0 and 1"
      ],
      "metadata": {
        "id": "OcV8leFGXhwF"
      }
    },
    {
      "cell_type": "code",
      "source": [
        "#np.random.seed(0)\n",
        "print(np.random.random((3,3)))"
      ],
      "metadata": {
        "colab": {
          "base_uri": "https://localhost:8080/"
        },
        "id": "CI08ZGmnXn6j",
        "outputId": "db341d1d-fad3-48b9-ad1b-1d0bfd795706"
      },
      "execution_count": null,
      "outputs": [
        {
          "output_type": "stream",
          "name": "stdout",
          "text": [
            "[[0.2239085  0.15866742 0.14401781]\n",
            " [0.61019402 0.16896143 0.83253044]\n",
            " [0.90585743 0.63591544 0.10795808]]\n"
          ]
        }
      ]
    },
    {
      "cell_type": "markdown",
      "source": [
        "6. Create a 3x3 array of random integers in the interval [0, 10)\n"
      ],
      "metadata": {
        "id": "pq_mlpE_bWBF"
      }
    },
    {
      "cell_type": "code",
      "source": [
        "np.random.randint(0, 10, (3,3))"
      ],
      "metadata": {
        "colab": {
          "base_uri": "https://localhost:8080/"
        },
        "id": "WPlzFe35bVtg",
        "outputId": "e825fadd-c472-4b16-b9d6-15862e91cb81"
      },
      "execution_count": null,
      "outputs": [
        {
          "output_type": "execute_result",
          "data": {
            "text/plain": [
              "array([[7, 9, 7],\n",
              "       [1, 8, 3],\n",
              "       [9, 5, 6]])"
            ]
          },
          "metadata": {},
          "execution_count": 40
        }
      ]
    },
    {
      "cell_type": "markdown",
      "source": [
        "**7.** Create a 3x3 identity matrix"
      ],
      "metadata": {
        "id": "5Lk5KQT7Q9JX"
      }
    },
    {
      "cell_type": "code",
      "source": [
        "np.eye(3)"
      ],
      "metadata": {
        "colab": {
          "base_uri": "https://localhost:8080/"
        },
        "id": "mAH_EnslRCZc",
        "outputId": "02f68171-54bc-4922-a567-a3b19eec9b4f"
      },
      "execution_count": null,
      "outputs": [
        {
          "output_type": "execute_result",
          "data": {
            "text/plain": [
              "array([[1., 0., 0.],\n",
              "       [0., 1., 0.],\n",
              "       [0., 0., 1.]])"
            ]
          },
          "metadata": {},
          "execution_count": 41
        }
      ]
    },
    {
      "cell_type": "markdown",
      "source": [
        "**8.** Create an array of 11 elements uniformly dividing the interval [0,1]"
      ],
      "metadata": {
        "id": "yHOOH4EwRcys"
      }
    },
    {
      "cell_type": "code",
      "source": [
        "np.linspace(0,50,20)"
      ],
      "metadata": {
        "colab": {
          "base_uri": "https://localhost:8080/"
        },
        "id": "UON_PRHWRf5C",
        "outputId": "f717159c-2948-4e2b-d383-63fbb17a0f06"
      },
      "execution_count": null,
      "outputs": [
        {
          "output_type": "execute_result",
          "data": {
            "text/plain": [
              "array([ 0.        ,  2.63157895,  5.26315789,  7.89473684, 10.52631579,\n",
              "       13.15789474, 15.78947368, 18.42105263, 21.05263158, 23.68421053,\n",
              "       26.31578947, 28.94736842, 31.57894737, 34.21052632, 36.84210526,\n",
              "       39.47368421, 42.10526316, 44.73684211, 47.36842105, 50.        ])"
            ]
          },
          "metadata": {},
          "execution_count": 42
        }
      ]
    },
    {
      "cell_type": "markdown",
      "metadata": {
        "id": "97w7nHVmIjfN"
      },
      "source": [
        "### 2- Numpy Array Attributes"
      ]
    },
    {
      "cell_type": "markdown",
      "source": [
        "Numpy array have the following attributes:\n",
        "\n",
        "1. ndim (the number of dimensions),\n",
        "2. shape (the size of each dimension), and\n",
        "3. size (the total size of the array)."
      ],
      "metadata": {
        "id": "_LGZZY5YUnLl"
      }
    },
    {
      "cell_type": "markdown",
      "source": [
        "**1.** Create a random one-dimensional array (x1), and check all the above attributes"
      ],
      "metadata": {
        "id": "ubR55NBoUwiT"
      }
    },
    {
      "cell_type": "code",
      "execution_count": null,
      "metadata": {
        "id": "NTSwquTpIl3c",
        "colab": {
          "base_uri": "https://localhost:8080/"
        },
        "outputId": "8b24a81d-54bc-476c-90df-8dd38e6b7724"
      },
      "outputs": [
        {
          "output_type": "stream",
          "name": "stdout",
          "text": [
            "[8 1 2 9 9 0]\n",
            "The dimention of x1 is 1\n",
            "The shape of x1 is (6,)\n",
            "The size of x1 is 6\n"
          ]
        }
      ],
      "source": [
        "#np.random.seed(0)\n",
        "x1 = np.random.randint(10, size=6)\n",
        "print(x1)\n",
        "print(f\"The dimention of x1 is {x1.ndim}\")\n",
        "print(f\"The shape of x1 is {x1.shape}\")\n",
        "print(f\"The size of x1 is {x1.size}\")"
      ]
    },
    {
      "cell_type": "markdown",
      "source": [
        "2. Create a random two-dimensional array (x2), and check all the above attributes"
      ],
      "metadata": {
        "id": "HfnGXV4UWgbv"
      }
    },
    {
      "cell_type": "code",
      "source": [
        "np.random.seed(0)\n",
        "x2 = np.random.randint(10, size=(3,4))\n",
        "print(x2)\n",
        "print(f\"The dimention of x2 is {x2.ndim}\")\n",
        "print(f\"The shape of x2 is {x2.shape}\")\n",
        "print(f\"The size of x2 is {x2.size}\")"
      ],
      "metadata": {
        "colab": {
          "base_uri": "https://localhost:8080/"
        },
        "id": "2mggJZzqWkHH",
        "outputId": "00ffb2e1-0105-4c5c-a723-da367be397e6"
      },
      "execution_count": null,
      "outputs": [
        {
          "output_type": "stream",
          "name": "stdout",
          "text": [
            "[[5 0 3 3]\n",
            " [7 9 3 5]\n",
            " [2 4 7 6]]\n",
            "The dimention of x2 is 2\n",
            "The shape of x2 is (3, 4)\n",
            "The size of x2 is 12\n"
          ]
        }
      ]
    },
    {
      "cell_type": "markdown",
      "metadata": {
        "id": "sscsSta_Im2z"
      },
      "source": [
        "### 3- Indexing"
      ]
    },
    {
      "cell_type": "code",
      "execution_count": null,
      "metadata": {
        "id": "L9JPHEqVIrnU",
        "colab": {
          "base_uri": "https://localhost:8080/"
        },
        "outputId": "9d77c882-e1bc-4e85-c288-cb2c7e144ef6"
      },
      "outputs": [
        {
          "output_type": "stream",
          "name": "stdout",
          "text": [
            "[5 0 3 3 7 9]\n",
            "indicies = [0, 1, 2, 3, 4, 5]\n",
            "array: [5, 0, 3, 3, 7, 9]\n",
            "5 7 9 7\n"
          ]
        }
      ],
      "source": [
        "np.random.seed(0)\n",
        "x1 = np.random.randint(10, size = 6)\n",
        "print(x1)\n",
        "\n",
        "print(f\"indicies = {list(range(6))}\")\n",
        "print(f\"array: {x1.tolist()}\")\n",
        "print(x1[0],x1[4],x1[-1],x1[-2])"
      ]
    },
    {
      "cell_type": "code",
      "source": [
        "np.random.seed(0)\n",
        "x2 = np.random.randint(50, size = (3,4))\n",
        "print(x2)\n",
        "print(x2[1][3], x2[2][3], x2[0][2])"
      ],
      "metadata": {
        "colab": {
          "base_uri": "https://localhost:8080/"
        },
        "id": "n2-JYlEZZ09D",
        "outputId": "e1effc3e-6477-4621-c7a0-4a52bab7c3ee"
      },
      "execution_count": null,
      "outputs": [
        {
          "output_type": "stream",
          "name": "stdout",
          "text": [
            "[[44 47  0  3]\n",
            " [ 3 39  9 19]\n",
            " [21 36 23  6]]\n",
            "19 6 0\n"
          ]
        }
      ]
    },
    {
      "cell_type": "markdown",
      "metadata": {
        "id": "B65SLMQ3IsVD"
      },
      "source": [
        "### 4- Slicing"
      ]
    },
    {
      "cell_type": "markdown",
      "source": [
        "### 1D arrays"
      ],
      "metadata": {
        "id": "QWQj82yL7oQ6"
      }
    },
    {
      "cell_type": "markdown",
      "source": [
        "Slicing refer to selecting/extracting a sub-array from a given array. As an example for 1d arrays, do the following tasks:"
      ],
      "metadata": {
        "id": "TQVPh74PiDpB"
      }
    },
    {
      "cell_type": "markdown",
      "source": [
        "**1.** Create a random 1d numpy array of size 10"
      ],
      "metadata": {
        "id": "rbEZ_bm3iIJN"
      }
    },
    {
      "cell_type": "code",
      "execution_count": null,
      "metadata": {
        "id": "ldLKpC2TIxaM",
        "colab": {
          "base_uri": "https://localhost:8080/"
        },
        "outputId": "093e129a-5dac-4e74-e288-b11ce6f20a40"
      },
      "outputs": [
        {
          "output_type": "stream",
          "name": "stdout",
          "text": [
            "[5 0 3 3 7 9 3 5]\n"
          ]
        }
      ],
      "source": [
        "np.random.seed(0)\n",
        "x1 = np.random.randint(10, size = 8)\n",
        "print(x1)"
      ]
    },
    {
      "cell_type": "markdown",
      "source": [
        "**2.** Display the first five elements"
      ],
      "metadata": {
        "id": "A-K7rNXYiyzd"
      }
    },
    {
      "cell_type": "code",
      "source": [
        "#for i in list(range(5)):\n",
        "#  print(x1[i])\n",
        "\n",
        "print(x1[:5])\n",
        "x1[:5]"
      ],
      "metadata": {
        "colab": {
          "base_uri": "https://localhost:8080/"
        },
        "id": "EOUhZa_Oi0F-",
        "outputId": "a23e42ff-61cc-4d01-80c9-8cb191fce901"
      },
      "execution_count": null,
      "outputs": [
        {
          "output_type": "stream",
          "name": "stdout",
          "text": [
            "[5 0 3 3 7]\n"
          ]
        },
        {
          "output_type": "execute_result",
          "data": {
            "text/plain": [
              "array([5, 0, 3, 3, 7])"
            ]
          },
          "metadata": {},
          "execution_count": 48
        }
      ]
    },
    {
      "cell_type": "markdown",
      "source": [
        "**3.** Display elements from index 5 to end"
      ],
      "metadata": {
        "id": "0kQfHSM2jYjn"
      }
    },
    {
      "cell_type": "code",
      "source": [
        "x1[5:]"
      ],
      "metadata": {
        "colab": {
          "base_uri": "https://localhost:8080/"
        },
        "id": "xOfyVzdwjoUK",
        "outputId": "29f3a149-7017-461f-899f-d078cd91ea83"
      },
      "execution_count": null,
      "outputs": [
        {
          "output_type": "execute_result",
          "data": {
            "text/plain": [
              "array([9, 3, 5])"
            ]
          },
          "metadata": {},
          "execution_count": 49
        }
      ]
    },
    {
      "cell_type": "markdown",
      "source": [
        "**4.** Display elements from index 4 to 6"
      ],
      "metadata": {
        "id": "h-dkJe4Ijz-l"
      }
    },
    {
      "cell_type": "code",
      "source": [
        "x1[4:7]"
      ],
      "metadata": {
        "colab": {
          "base_uri": "https://localhost:8080/"
        },
        "id": "vPVf4LW2j24p",
        "outputId": "c29fa46b-6730-465e-f5f3-c77da3f28afa"
      },
      "execution_count": null,
      "outputs": [
        {
          "output_type": "execute_result",
          "data": {
            "text/plain": [
              "array([7, 9, 3])"
            ]
          },
          "metadata": {},
          "execution_count": 50
        }
      ]
    },
    {
      "cell_type": "markdown",
      "source": [
        "**5.** Display alternate elements starting from the first element"
      ],
      "metadata": {
        "id": "ghjSM3T-kEbO"
      }
    },
    {
      "cell_type": "code",
      "source": [
        "print(x1)\n",
        "x1[::2]"
      ],
      "metadata": {
        "colab": {
          "base_uri": "https://localhost:8080/"
        },
        "id": "iHjXJMhGkFrm",
        "outputId": "6589c5a9-4d10-41e1-a52e-9e91582294aa"
      },
      "execution_count": null,
      "outputs": [
        {
          "output_type": "stream",
          "name": "stdout",
          "text": [
            "[5 0 3 3 7 9 3 5]\n"
          ]
        },
        {
          "output_type": "execute_result",
          "data": {
            "text/plain": [
              "array([5, 3, 7, 3])"
            ]
          },
          "metadata": {},
          "execution_count": 51
        }
      ]
    },
    {
      "cell_type": "markdown",
      "source": [
        "**6.** Display alternate elements starting from the second element"
      ],
      "metadata": {
        "id": "8J-M_zUZkdD8"
      }
    },
    {
      "cell_type": "code",
      "source": [
        "print(x1)\n",
        "x1[1::2]"
      ],
      "metadata": {
        "colab": {
          "base_uri": "https://localhost:8080/"
        },
        "id": "5aQs1Y44kfHR",
        "outputId": "d8fef773-ee2b-45a3-fa24-486c3ef11b3d"
      },
      "execution_count": null,
      "outputs": [
        {
          "output_type": "stream",
          "name": "stdout",
          "text": [
            "[5 0 3 3 7 9 3 5]\n"
          ]
        },
        {
          "output_type": "execute_result",
          "data": {
            "text/plain": [
              "array([0, 3, 9, 5])"
            ]
          },
          "metadata": {},
          "execution_count": 52
        }
      ]
    },
    {
      "cell_type": "markdown",
      "source": [
        "**7.** Display elements starting from fourth element from the end and ending at last but one element"
      ],
      "metadata": {
        "id": "cEQq2Q7Gk2wO"
      }
    },
    {
      "cell_type": "code",
      "source": [
        "print(x1)\n",
        "x1[-4:-1]"
      ],
      "metadata": {
        "colab": {
          "base_uri": "https://localhost:8080/"
        },
        "id": "ZXDJiWVPk4k5",
        "outputId": "065cd054-bac4-4075-9ae3-5a3ac7117d25"
      },
      "execution_count": null,
      "outputs": [
        {
          "output_type": "stream",
          "name": "stdout",
          "text": [
            "[5 0 3 3 7 9 3 5]\n"
          ]
        },
        {
          "output_type": "execute_result",
          "data": {
            "text/plain": [
              "array([7, 9, 3])"
            ]
          },
          "metadata": {},
          "execution_count": 53
        }
      ]
    },
    {
      "cell_type": "markdown",
      "source": [
        "**8.** Display all element in the reverse order of indices"
      ],
      "metadata": {
        "id": "F8L7K9p7lTPa"
      }
    },
    {
      "cell_type": "code",
      "source": [
        "print(x1)\n",
        "x1[::-1]"
      ],
      "metadata": {
        "colab": {
          "base_uri": "https://localhost:8080/"
        },
        "id": "Vr5OyXVslVA4",
        "outputId": "d572739d-3d1a-4beb-98ef-50a2f11fc7e8"
      },
      "execution_count": null,
      "outputs": [
        {
          "output_type": "stream",
          "name": "stdout",
          "text": [
            "[5 0 3 3 7 9 3 5]\n"
          ]
        },
        {
          "output_type": "execute_result",
          "data": {
            "text/plain": [
              "array([5, 3, 9, 7, 3, 3, 0, 5])"
            ]
          },
          "metadata": {},
          "execution_count": 54
        }
      ]
    },
    {
      "cell_type": "markdown",
      "source": [
        "### 2D arrays"
      ],
      "metadata": {
        "id": "zirZUmsk7afo"
      }
    },
    {
      "cell_type": "markdown",
      "source": [
        "**1.** Create a random 2d numpy array of size 3x4"
      ],
      "metadata": {
        "id": "bi7ays-v7fbX"
      }
    },
    {
      "cell_type": "code",
      "source": [
        "np.random.seed(0)\n",
        "x2 = np.random.randint(10, size = (3,4))\n",
        "print(x2)\n"
      ],
      "metadata": {
        "colab": {
          "base_uri": "https://localhost:8080/"
        },
        "id": "Y7JXfTE174IW",
        "outputId": "60e03b13-9615-4a40-92d5-99709241392d"
      },
      "execution_count": null,
      "outputs": [
        {
          "output_type": "stream",
          "name": "stdout",
          "text": [
            "[[5 0 3 3]\n",
            " [7 9 3 5]\n",
            " [2 4 7 6]]\n"
          ]
        }
      ]
    },
    {
      "cell_type": "markdown",
      "source": [
        "**2.** Display first two rows, first three columns"
      ],
      "metadata": {
        "id": "QVvQLNgL86ok"
      }
    },
    {
      "cell_type": "code",
      "source": [
        "x2[:2,:3]"
      ],
      "metadata": {
        "colab": {
          "base_uri": "https://localhost:8080/"
        },
        "id": "HVXVxSog873J",
        "outputId": "97320de8-9b68-4974-e623-60d6e741125d"
      },
      "execution_count": null,
      "outputs": [
        {
          "output_type": "execute_result",
          "data": {
            "text/plain": [
              "array([[5, 0, 3],\n",
              "       [7, 9, 3]])"
            ]
          },
          "metadata": {},
          "execution_count": 56
        }
      ]
    },
    {
      "cell_type": "markdown",
      "source": [
        "**3.** Display all rows, and every other column"
      ],
      "metadata": {
        "id": "nZDJvEsa9IUL"
      }
    },
    {
      "cell_type": "code",
      "source": [
        "x2[:,:]"
      ],
      "metadata": {
        "colab": {
          "base_uri": "https://localhost:8080/"
        },
        "id": "jpGP4nBZ9Ixb",
        "outputId": "a97608d8-b331-41f2-c3ab-7d677b65832c"
      },
      "execution_count": null,
      "outputs": [
        {
          "output_type": "execute_result",
          "data": {
            "text/plain": [
              "array([[5, 0, 3, 3],\n",
              "       [7, 9, 3, 5],\n",
              "       [2, 4, 7, 6]])"
            ]
          },
          "metadata": {},
          "execution_count": 57
        }
      ]
    },
    {
      "cell_type": "markdown",
      "source": [
        "**4.** Display all rows and columns in the reverse order"
      ],
      "metadata": {
        "id": "IE8AfNEs9aLF"
      }
    },
    {
      "cell_type": "code",
      "source": [
        "x2[::-1,::-1]"
      ],
      "metadata": {
        "colab": {
          "base_uri": "https://localhost:8080/"
        },
        "id": "79Sfy_2x9izb",
        "outputId": "847dc535-1b2e-4528-9dcd-2a25306f1610"
      },
      "execution_count": null,
      "outputs": [
        {
          "output_type": "execute_result",
          "data": {
            "text/plain": [
              "array([[6, 7, 4, 2],\n",
              "       [5, 3, 9, 7],\n",
              "       [3, 3, 0, 5]])"
            ]
          },
          "metadata": {},
          "execution_count": 58
        }
      ]
    },
    {
      "cell_type": "markdown",
      "source": [
        "**5.** Display first column"
      ],
      "metadata": {
        "id": "cO_k6I9VAQfE"
      }
    },
    {
      "cell_type": "code",
      "source": [
        "x2[:,:1]"
      ],
      "metadata": {
        "colab": {
          "base_uri": "https://localhost:8080/"
        },
        "id": "bhWdOV5OAZbt",
        "outputId": "487cde0b-44a1-4968-ab4a-f817ce7a2aa5"
      },
      "execution_count": null,
      "outputs": [
        {
          "output_type": "execute_result",
          "data": {
            "text/plain": [
              "array([[5],\n",
              "       [7],\n",
              "       [2]])"
            ]
          },
          "metadata": {},
          "execution_count": 59
        }
      ]
    },
    {
      "cell_type": "markdown",
      "source": [
        "**6.** Display first row "
      ],
      "metadata": {
        "id": "sTEw_8T_ArzK"
      }
    },
    {
      "cell_type": "code",
      "source": [
        "print(x2)\n",
        "x2[0,:]"
      ],
      "metadata": {
        "colab": {
          "base_uri": "https://localhost:8080/"
        },
        "id": "kGnn6aSkAtHS",
        "outputId": "bc7183a5-9dff-409b-f793-4b88f5316d5b"
      },
      "execution_count": null,
      "outputs": [
        {
          "output_type": "stream",
          "name": "stdout",
          "text": [
            "[[5 0 3 3]\n",
            " [7 9 3 5]\n",
            " [2 4 7 6]]\n"
          ]
        },
        {
          "output_type": "execute_result",
          "data": {
            "text/plain": [
              "array([5, 0, 3, 3])"
            ]
          },
          "metadata": {},
          "execution_count": 60
        }
      ]
    },
    {
      "cell_type": "markdown",
      "source": [
        "**7.** From the third row, display  column 3 element, then column 1 then column 2"
      ],
      "metadata": {
        "id": "7aO_jJ53BEH5"
      }
    },
    {
      "cell_type": "code",
      "source": [
        "x2[2,[2,0,1]]"
      ],
      "metadata": {
        "colab": {
          "base_uri": "https://localhost:8080/"
        },
        "id": "9YkWPl8kBX1B",
        "outputId": "72de7be6-1c22-4b42-f7d8-c121c33c0bcb"
      },
      "execution_count": null,
      "outputs": [
        {
          "output_type": "execute_result",
          "data": {
            "text/plain": [
              "array([7, 2, 4])"
            ]
          },
          "metadata": {},
          "execution_count": 61
        }
      ]
    },
    {
      "cell_type": "markdown",
      "source": [
        "**8.** Display second and following row elements in order of column 3, then column 1 then column 2"
      ],
      "metadata": {
        "id": "r-RC_8-uC5aL"
      }
    },
    {
      "cell_type": "code",
      "source": [
        "print(x2)\n",
        "x2[1:,[2,0,1]]"
      ],
      "metadata": {
        "colab": {
          "base_uri": "https://localhost:8080/"
        },
        "id": "UByyIl2MC63I",
        "outputId": "840958d5-7786-4443-c98d-6b92a97d0d1d"
      },
      "execution_count": null,
      "outputs": [
        {
          "output_type": "stream",
          "name": "stdout",
          "text": [
            "[[5 0 3 3]\n",
            " [7 9 3 5]\n",
            " [2 4 7 6]]\n"
          ]
        },
        {
          "output_type": "execute_result",
          "data": {
            "text/plain": [
              "array([[3, 7, 9],\n",
              "       [7, 2, 4]])"
            ]
          },
          "metadata": {},
          "execution_count": 62
        }
      ]
    },
    {
      "cell_type": "markdown",
      "metadata": {
        "id": "tTpowltnI2F3"
      },
      "source": [
        "### 5- Sorting"
      ]
    },
    {
      "cell_type": "markdown",
      "source": [
        "Numpy .sort() method sorts an array in-place. The sorting is done row/column wise, and order/preference can be provided too. As an example, do the following:"
      ],
      "metadata": {
        "id": "6JL4Un2FE0Pq"
      }
    },
    {
      "cell_type": "markdown",
      "source": [
        "1. Create a 1D random array of size 6, and sort it. Print the corresponding original indices in the sorted array."
      ],
      "metadata": {
        "id": "CpiPr18YFF1R"
      }
    },
    {
      "cell_type": "code",
      "execution_count": null,
      "metadata": {
        "id": "RgPyb2DmI45G",
        "colab": {
          "base_uri": "https://localhost:8080/"
        },
        "outputId": "43e22eef-c008-4111-ef0f-5731b9c98405"
      },
      "outputs": [
        {
          "output_type": "stream",
          "name": "stdout",
          "text": [
            "[12 15 21  0  3 27  3  7  9 19 21 18  4 23  6 24]\n",
            "Original indices  : [0, 1, 2, 3, 4, 5, 6, 7, 8, 9, 10, 11, 12, 13, 14, 15]\n",
            "Given array       : [12, 15, 21, 0, 3, 27, 3, 7, 9, 19, 21, 18, 4, 23, 6, 24]\n",
            "Sorted array      : [0, 3, 3, 4, 6, 7, 9, 12, 15, 18, 19, 21, 21, 23, 24, 27]\n",
            "Sorted idicies    : [3, 4, 6, 12, 14, 7, 8, 0, 1, 11, 9, 2, 10, 13, 15, 5]\n"
          ]
        }
      ],
      "source": [
        "np.random.seed(0)\n",
        "x1 = np.random.randint(30, size = 16)\n",
        "print(x1)\n",
        "print(f\"Original indices  : {list(range(16))}\")\n",
        "print(f\"Given array       : {x1.tolist()}\")\n",
        "print(f\"Sorted array      : {np.sort(x1).tolist()}\")\n",
        "print(f\"Sorted idicies    : {np.argsort(x1).tolist()}\")"
      ]
    },
    {
      "cell_type": "markdown",
      "source": [
        "2. Create a random 2D numpy array of size 7x6. Sort row wise"
      ],
      "metadata": {
        "id": "fDHmryXoIfy2"
      }
    },
    {
      "cell_type": "code",
      "source": [
        "np.random.seed(0)\n",
        "x2 = np.random.randint(30, size = (7, 6))\n",
        "print(x2)\n",
        "print(\"___\"*10)\n",
        "\n",
        "x2.sort(axis=0)\n",
        "print(x2)"
      ],
      "metadata": {
        "colab": {
          "base_uri": "https://localhost:8080/"
        },
        "id": "RoN7FNJmIg3l",
        "outputId": "3adaeb20-fc3c-4cd9-a139-06ca7eff295f"
      },
      "execution_count": null,
      "outputs": [
        {
          "output_type": "stream",
          "name": "stdout",
          "text": [
            "[[12 15 21  0  3 27]\n",
            " [ 3  7  9 19 21 18]\n",
            " [ 4 23  6 24 24 12]\n",
            " [26  1  6  7 23 14]\n",
            " [24 17  5 25 13  8]\n",
            " [ 9 20 19 16 19  5]\n",
            " [15 15  0 18  3 24]]\n",
            "______________________________\n",
            "[[ 3  1  0  0  3  5]\n",
            " [ 4  7  5  7  3  8]\n",
            " [ 9 15  6 16 13 12]\n",
            " [12 15  6 18 19 14]\n",
            " [15 17  9 19 21 18]\n",
            " [24 20 19 24 23 24]\n",
            " [26 23 21 25 24 27]]\n"
          ]
        }
      ]
    },
    {
      "cell_type": "markdown",
      "source": [
        "3. Create a random 2d numpy array of size 7x6. Sort column wise"
      ],
      "metadata": {
        "id": "rfGB0bsUHjl0"
      }
    },
    {
      "cell_type": "code",
      "source": [
        "np.random.seed(10)\n",
        "x2 = np.random.randint(20, size=(7,6))\n",
        "print(x2)\n",
        "print('____'*10)\n",
        "x2.sort(axis=1)\n",
        "print(x2)"
      ],
      "metadata": {
        "colab": {
          "base_uri": "https://localhost:8080/"
        },
        "id": "b-bLIEKJHkN2",
        "outputId": "5d7e965f-edc3-44cf-c058-1522f6679d84"
      },
      "execution_count": null,
      "outputs": [
        {
          "output_type": "stream",
          "name": "stdout",
          "text": [
            "[[ 9  4 15  0 17 16]\n",
            " [17  8  9  0 10  8]\n",
            " [ 4 19 16  4 15 11]\n",
            " [11  1  8  4 14 17]\n",
            " [19 13  5 13 19 13]\n",
            " [12  1  4 18 13 11]\n",
            " [10  9 15 18 16  7]]\n",
            "________________________________________\n",
            "[[ 0  4  9 15 16 17]\n",
            " [ 0  8  8  9 10 17]\n",
            " [ 4  4 11 15 16 19]\n",
            " [ 1  4  8 11 14 17]\n",
            " [ 5 13 13 13 19 19]\n",
            " [ 1  4 11 12 13 18]\n",
            " [ 7  9 10 15 16 18]]\n"
          ]
        }
      ]
    },
    {
      "cell_type": "markdown",
      "metadata": {
        "id": "Q16D27h-I7cs"
      },
      "source": [
        "### 6- Copy of Array"
      ]
    },
    {
      "cell_type": "code",
      "execution_count": null,
      "metadata": {
        "id": "1YI1K4UPI9ns",
        "colab": {
          "base_uri": "https://localhost:8080/"
        },
        "outputId": "18620245-5995-4bf7-fb75-8beacdad9a6d"
      },
      "outputs": [
        {
          "output_type": "stream",
          "name": "stdout",
          "text": [
            "x2 is:\n",
            "[[12 15  0  3  3  7]\n",
            " [ 9 19 18  4  6 12]\n",
            " [ 1  6  7 14 17  5]\n",
            " [13  8  9 19 16 19]]\n",
            "______________________________\n",
            "x22_copy is:\n",
            "[[12 15  0  3  3  7]\n",
            " [ 9 19 18  4  6 12]\n",
            " [ 1  6  7 14 17  5]\n",
            " [13  8  9 19 16 19]]\n",
            "______________________________\n",
            "x2_copy modified is:\n",
            " [[12  4  4  3  3  7]\n",
            " [ 9 19 18  4  6 12]\n",
            " [ 1  6  7 14 17  5]\n",
            " [13  8  9 19 16 19]]\n"
          ]
        }
      ],
      "source": [
        "np.random.seed(0)\n",
        "x2 = np.random.randint(20, size=(4,6))\n",
        "print(f\"x2 is:\\n{x2}\")\n",
        "print(\"___\"*10)\n",
        "x2_copy = x2\n",
        "x22 = x2.copy()\n",
        "print(f\"x22_copy is:\\n{x22}\")\n",
        "print(\"___\"*10)\n",
        "\n",
        "x22[0,1:3] = [4,4]\n",
        "print(f\"x2_copy modified is:\\n {x22}\")"
      ]
    },
    {
      "cell_type": "markdown",
      "metadata": {
        "id": "BdQVT21LJAZK"
      },
      "source": [
        "## 7- Reshaping"
      ]
    },
    {
      "cell_type": "markdown",
      "source": [
        "Numpy .reshape method gives a new shape to an existing array without changing its data. As an exmaple, do the following task:"
      ],
      "metadata": {
        "id": "Wjoa_z8c9_WB"
      }
    },
    {
      "cell_type": "markdown",
      "source": [
        "1. Create a 1d random array of size 10."
      ],
      "metadata": {
        "id": "ZYR9KdCb-F-k"
      }
    },
    {
      "cell_type": "code",
      "execution_count": null,
      "metadata": {
        "id": "cEBR0gAPJW8t",
        "colab": {
          "base_uri": "https://localhost:8080/"
        },
        "outputId": "f0730fd5-d8ed-465e-a900-99d74ba6212e"
      },
      "outputs": [
        {
          "output_type": "stream",
          "name": "stdout",
          "text": [
            "[5 0 3 3 7 9 3 5 2 4]\n"
          ]
        }
      ],
      "source": [
        "np.random.seed(0) # seed for reproducibility\n",
        "x1 = np.random.randint(10,size=10) # One-dimensional array\n",
        "print(x1)"
      ]
    },
    {
      "cell_type": "markdown",
      "source": [
        "2. Reshape the 1d array into size 5x2"
      ],
      "metadata": {
        "id": "xI-12UeU-UdP"
      }
    },
    {
      "cell_type": "code",
      "source": [
        "x11 = x1.reshape(5,2)\n",
        "print(x11)"
      ],
      "metadata": {
        "colab": {
          "base_uri": "https://localhost:8080/"
        },
        "id": "_uK4pLI3-WIk",
        "outputId": "098f21cd-021c-48ae-b73d-3b105aa524c6"
      },
      "execution_count": null,
      "outputs": [
        {
          "output_type": "stream",
          "name": "stdout",
          "text": [
            "[[5 0]\n",
            " [3 3]\n",
            " [7 9]\n",
            " [3 5]\n",
            " [2 4]]\n"
          ]
        }
      ]
    },
    {
      "cell_type": "markdown",
      "source": [
        "3. Reshape the 1d array into size 2x5"
      ],
      "metadata": {
        "id": "FsrujdnB-ytY"
      }
    },
    {
      "cell_type": "code",
      "source": [
        "print(x1.reshape(2,5))\n",
        "print(x1.reshape(5,-1))"
      ],
      "metadata": {
        "colab": {
          "base_uri": "https://localhost:8080/"
        },
        "id": "kHP2jZLO-05h",
        "outputId": "cf0ff26d-abf6-41d2-b8fe-3b18100e8572"
      },
      "execution_count": null,
      "outputs": [
        {
          "output_type": "stream",
          "name": "stdout",
          "text": [
            "[[5 0 3 3 7]\n",
            " [9 3 5 2 4]]\n",
            "[[5 0]\n",
            " [3 3]\n",
            " [7 9]\n",
            " [3 5]\n",
            " [2 4]]\n"
          ]
        }
      ]
    },
    {
      "cell_type": "markdown",
      "metadata": {
        "id": "og6iZTKzJDTG"
      },
      "source": [
        "## 8- Concatenate/Split"
      ]
    },
    {
      "cell_type": "markdown",
      "source": [
        "Concatenate means joining, and Numpy's .concatenate() function is used to join two or more arrays of the same shape along a specified axis. Numpy's .vstack() (.hstack()) can be used for row wise (column wise) joining. Numpy's split/vsplit/hsplit methods are for breaking/splitting the array, opposite to the concatenation.\n",
        "\n",
        "For example, see the code in the following cells:"
      ],
      "metadata": {
        "id": "zCXwZojy_VEv"
      }
    },
    {
      "cell_type": "code",
      "execution_count": null,
      "metadata": {
        "id": "aU50q0o0JHo9",
        "colab": {
          "base_uri": "https://localhost:8080/"
        },
        "outputId": "b58ea549-1229-446c-e429-705813e910b6"
      },
      "outputs": [
        {
          "output_type": "stream",
          "name": "stdout",
          "text": [
            "[1 2 3 3 2 1 9 9 9]\n"
          ]
        }
      ],
      "source": [
        "x = np.array([1,2,3])\n",
        "y = np.array([3,2,1])\n",
        "z = np.array([9,9,9])\n",
        "\n",
        "print(np.concatenate((x,y,z)))   # to join all 1d arrays along axis 0"
      ]
    },
    {
      "cell_type": "code",
      "source": [
        "x = np.array([1,2,3])\n",
        "y = np.array([3,2,1])\n",
        "z = np.array([9,9,9])\n",
        "\n",
        "print(np.vstack((x,y,z)))\n",
        "print(\"___\"*20)\n",
        "print(np.hstack((x,y,z)))"
      ],
      "metadata": {
        "colab": {
          "base_uri": "https://localhost:8080/"
        },
        "id": "TzW-icn8gKBj",
        "outputId": "feb55979-4ec4-4b8e-e5d8-ab54d3c641c9"
      },
      "execution_count": null,
      "outputs": [
        {
          "output_type": "stream",
          "name": "stdout",
          "text": [
            "[[1 2 3]\n",
            " [3 2 1]\n",
            " [9 9 9]]\n",
            "____________________________________________________________\n",
            "[1 2 3 3 2 1 9 9 9]\n"
          ]
        }
      ]
    },
    {
      "cell_type": "code",
      "source": [
        "x = [1,2,3,99,99,3,2,1]\n",
        "print(x)\n",
        "\n",
        "x1, x2, x3 = np.split(x, [3,7])\n",
        "print(x1, x2, x3)"
      ],
      "metadata": {
        "colab": {
          "base_uri": "https://localhost:8080/"
        },
        "id": "1EHha7HwhYuf",
        "outputId": "d433f61a-4119-4e4e-da0c-e44e87be6eb2"
      },
      "execution_count": null,
      "outputs": [
        {
          "output_type": "stream",
          "name": "stdout",
          "text": [
            "[1, 2, 3, 99, 99, 3, 2, 1]\n",
            "[1 2 3] [99 99  3  2] [1]\n"
          ]
        }
      ]
    },
    {
      "cell_type": "markdown",
      "metadata": {
        "id": "W0c_MmiMJLDR"
      },
      "source": [
        "## 9- Vectorized Operations"
      ]
    },
    {
      "cell_type": "markdown",
      "source": [
        "Vectorized operations are perhaps the most crucial factor to the wide usage of Numpy library. Vectorized operations simply put are those operations that can be done on arrays without using loops."
      ],
      "metadata": {
        "id": "YtSACzx0hro2"
      }
    },
    {
      "cell_type": "markdown",
      "source": [
        "1. Create a random id array, and add, subtract,multiply and divide all the elements with 5"
      ],
      "metadata": {
        "id": "tOX81eqvh0GW"
      }
    },
    {
      "cell_type": "code",
      "execution_count": null,
      "metadata": {
        "id": "zgdTwunIJN1M",
        "colab": {
          "base_uri": "https://localhost:8080/"
        },
        "outputId": "fc63a40a-afd0-4b4e-aa02-8b722a20d53d"
      },
      "outputs": [
        {
          "output_type": "stream",
          "name": "stdout",
          "text": [
            "Original: [ 9  4 15  0 17 16 17  8  9  0]\n",
            "____________________________________________________________\n",
            "Addition: [14  9 20  5 22 21 22 13 14  5]\n",
            "Sub: [ 4 -1 10 -5 12 11 12  3  4 -5]\n",
            "Mult: [45 20 75  0 85 80 85 40 45  0]\n",
            "Div: [1.8 0.8 3.  0.  3.4 3.2 3.4 1.6 1.8 0. ]\n"
          ]
        }
      ],
      "source": [
        "np.random.seed(10)\n",
        "id = np.random.randint(20, size=(10))\n",
        "print(f\"Original: {id}\")\n",
        "print(\"__\"*30)\n",
        "print(f\"Addition: {id+5}\")\n",
        "print(f\"Sub: {id-5}\")\n",
        "print(f\"Mult: {id*5}\")\n",
        "print(f\"Div: {id/5}\")"
      ]
    },
    {
      "cell_type": "markdown",
      "source": [
        "2. Take the square of all elements.\n",
        "3. Find remainder w.r.t 2 for all elements."
      ],
      "metadata": {
        "id": "YxZAoEAeiuA-"
      }
    },
    {
      "cell_type": "code",
      "source": [
        "print(f\"Original: {id}\")\n",
        "print(\"__\"*30)\n",
        "print(f\"Sqr: {id**2}\")\n",
        "print(f\"Reminder: {id%2}\")"
      ],
      "metadata": {
        "colab": {
          "base_uri": "https://localhost:8080/"
        },
        "id": "0moa34Nviwk0",
        "outputId": "92b62d6c-fbf1-464f-cdb5-f6d386e310e9"
      },
      "execution_count": null,
      "outputs": [
        {
          "output_type": "stream",
          "name": "stdout",
          "text": [
            "Original: [ 9  4 15  0 17 16 17  8  9  0]\n",
            "____________________________________________________________\n",
            "Sqr: [ 81  16 225   0 289 256 289  64  81   0]\n",
            "Reminder: [1 0 1 0 1 0 1 0 1 0]\n"
          ]
        }
      ]
    },
    {
      "cell_type": "markdown",
      "source": [
        "4. Transform the array as: $-(\\frac{x}{2}+1)^2$, where $x$ is the random 1d array."
      ],
      "metadata": {
        "id": "JOBOzIi-jIJh"
      }
    },
    {
      "cell_type": "code",
      "source": [
        "new_id = -(id*0.5+1)**2\n",
        "print(f\"new_id:{new_id}\")"
      ],
      "metadata": {
        "colab": {
          "base_uri": "https://localhost:8080/"
        },
        "id": "kJXSRvD4jIzR",
        "outputId": "64d57dd4-0877-404a-d253-f71163f43fad"
      },
      "execution_count": null,
      "outputs": [
        {
          "output_type": "stream",
          "name": "stdout",
          "text": [
            "new_id:[-30.25  -9.   -72.25  -1.   -90.25 -81.   -90.25 -25.   -30.25  -1.  ]\n"
          ]
        }
      ]
    },
    {
      "cell_type": "markdown",
      "metadata": {
        "id": "VljCdmZmJd8K"
      },
      "source": [
        "## 10- Ufuncs"
      ]
    },
    {
      "cell_type": "markdown",
      "source": [
        "A universal function (or ufunc for short) is a vectorized wrapper for a function that takes a fixed number of specific inputs and produces a fixed number of specific outputs."
      ],
      "metadata": {
        "id": "doSEk20hjuCs"
      }
    },
    {
      "cell_type": "code",
      "execution_count": null,
      "metadata": {
        "id": "Z0ziMw0_JiXH",
        "colab": {
          "base_uri": "https://localhost:8080/"
        },
        "outputId": "5243e896-67ac-4fcc-b0e2-0265ee842431"
      },
      "outputs": [
        {
          "output_type": "stream",
          "name": "stdout",
          "text": [
            "[-2 -1  0  1  2]\n",
            "------------------------------\n",
            "[2 1 0 1 2]\n",
            "[1.41421356 1.         0.         1.         1.41421356]\n",
            "-2\n",
            "2\n",
            "0\n"
          ]
        }
      ],
      "source": [
        "x = np.array([-2,-1,0,1,2])\n",
        "\n",
        "print(x) # the original array\n",
        "\n",
        "print('-'*30)\n",
        "print(np.abs(x))  # convert all elements to +ve numbers\n",
        "print(np.sqrt(np.abs(x)))  # get square-roots of all abs(elements)\n",
        "print(np.min(x))  # get the min value\n",
        "print(np.max(x))  # get the max value\n",
        "print(np.sum(x))  # get the sum of all value"
      ]
    },
    {
      "cell_type": "markdown",
      "source": [
        "## 11- Broadcasting"
      ],
      "metadata": {
        "id": "erC6qd8tkJZt"
      }
    },
    {
      "cell_type": "markdown",
      "source": [
        "Vectorization involving multiple arrays can be done. Vectorization follows broadcasting rules. The key broadcasting rule is: In order to broadcast, the size of the trailing axes for both arrays in an operation must either be the same size or one of them must be one. In rough sense, what it means is:\n",
        "\n",
        "1. If two arrays of same dimensions have the same shape, then corresponding elements can be broadcasted.\n",
        "2. If the arrays do not have the same dimensions, prepend the shape of the lower dimension array with 1s until both arrays have the same dimensions.\n",
        "3. In any dimension where one array had size 1 and the other array had size greater than 1, the first array behaves as if it were copied along that dimension."
      ],
      "metadata": {
        "id": "3UZemX1aktDa"
      }
    },
    {
      "cell_type": "markdown",
      "source": [
        "1. Add/multiply corresponding elements of two different sized arrays."
      ],
      "metadata": {
        "id": "1yE0p5mflCQO"
      }
    },
    {
      "cell_type": "code",
      "source": [
        "A = np.ones((5,4), dtype = \"int\")\n",
        "print(A)\n",
        "print(\"-\"*20)\n",
        "B = np.arange(4, dtype = \"int\")\n",
        "print(B)\n",
        "print(\"-\"*20)\n",
        "print(f'The dimentions of the arrays are:{A.shape}{B.shape}')\n",
        "print(\"-\"*20)\n",
        "print(f'   The sum:\\n {A+B}')\n",
        "print(\"-\"*20)\n",
        "print(f'   The dot:\\n {A*B}')"
      ],
      "metadata": {
        "colab": {
          "base_uri": "https://localhost:8080/"
        },
        "id": "GalAwF5NlDTn",
        "outputId": "e651b1d3-0741-41ae-adcc-a9fc9e55551f"
      },
      "execution_count": null,
      "outputs": [
        {
          "output_type": "stream",
          "name": "stdout",
          "text": [
            "[[1 1 1 1]\n",
            " [1 1 1 1]\n",
            " [1 1 1 1]\n",
            " [1 1 1 1]\n",
            " [1 1 1 1]]\n",
            "--------------------\n",
            "[0 1 2 3]\n",
            "--------------------\n",
            "The dimentions of the arrays are:(5, 4)(4,)\n",
            "--------------------\n",
            "   The sum:\n",
            " [[1 2 3 4]\n",
            " [1 2 3 4]\n",
            " [1 2 3 4]\n",
            " [1 2 3 4]\n",
            " [1 2 3 4]]\n",
            "--------------------\n",
            "   The dot:\n",
            " [[0 1 2 3]\n",
            " [0 1 2 3]\n",
            " [0 1 2 3]\n",
            " [0 1 2 3]\n",
            " [0 1 2 3]]\n"
          ]
        }
      ]
    },
    {
      "cell_type": "code",
      "source": [],
      "metadata": {
        "id": "ujN4lkOknaok"
      },
      "execution_count": null,
      "outputs": []
    },
    {
      "cell_type": "markdown",
      "source": [
        "## 12- Masking"
      ],
      "metadata": {
        "id": "ID2PEoyWn84a"
      }
    },
    {
      "cell_type": "markdown",
      "source": [
        "Masked array is an array of booleans that determines for each element of the associated array whether the value is valid or not. The masked arrays are obtained using different conditions. Numpy array comparison are vectorized too."
      ],
      "metadata": {
        "id": "YrMThFrpoI9a"
      }
    },
    {
      "cell_type": "code",
      "source": [
        "x = np.array([1,2,3,4,5,6])\n",
        "\n",
        "print(x<3)  # less than\n",
        "print(x>3)  # greater than\n",
        "print(x<=3) #less than or equal\n",
        "print(x>=3) #greater than or equal\n",
        "print(x!=3) #not equal\n",
        "print(x==3) #equal"
      ],
      "metadata": {
        "colab": {
          "base_uri": "https://localhost:8080/"
        },
        "id": "gqb21vU9oJtR",
        "outputId": "3894070a-1079-431d-bf72-a0cdd67e5ae0"
      },
      "execution_count": null,
      "outputs": [
        {
          "output_type": "stream",
          "name": "stdout",
          "text": [
            "[ True  True False False False False]\n",
            "[False False False  True  True  True]\n",
            "[ True  True  True False False False]\n",
            "[False False  True  True  True  True]\n",
            "[ True  True False  True  True  True]\n",
            "[False False  True False False False]\n"
          ]
        }
      ]
    },
    {
      "cell_type": "code",
      "source": [
        "x[x<3]"
      ],
      "metadata": {
        "colab": {
          "base_uri": "https://localhost:8080/"
        },
        "id": "zKqdioxHoO9K",
        "outputId": "97825370-99c2-4a35-d691-d1c3a9599a5d"
      },
      "execution_count": null,
      "outputs": [
        {
          "output_type": "execute_result",
          "data": {
            "text/plain": [
              "array([1, 2])"
            ]
          },
          "metadata": {},
          "execution_count": 103
        }
      ]
    },
    {
      "cell_type": "code",
      "source": [
        "x[(x > 2) & (x < 5)]"
      ],
      "metadata": {
        "colab": {
          "base_uri": "https://localhost:8080/"
        },
        "id": "AlibEa9ppw-V",
        "outputId": "c2b59679-9601-4131-a416-119b2a1aed1a"
      },
      "execution_count": null,
      "outputs": [
        {
          "output_type": "execute_result",
          "data": {
            "text/plain": [
              "array([3, 4])"
            ]
          },
          "metadata": {},
          "execution_count": 105
        }
      ]
    },
    {
      "cell_type": "code",
      "source": [],
      "metadata": {
        "id": "v35nII_4p-DX"
      },
      "execution_count": null,
      "outputs": []
    }
  ],
  "metadata": {
    "colab": {
      "provenance": []
    },
    "kernelspec": {
      "display_name": "Python 3",
      "name": "python3"
    },
    "language_info": {
      "name": "python"
    }
  },
  "nbformat": 4,
  "nbformat_minor": 0
}